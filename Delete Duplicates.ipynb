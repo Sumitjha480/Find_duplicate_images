{
 "cells": [
  {
   "cell_type": "code",
   "execution_count": 1,
   "metadata": {},
   "outputs": [],
   "source": [
    "import cv2\n",
    "import numpy as np\n",
    "import os"
   ]
  },
  {
   "cell_type": "code",
   "execution_count": 2,
   "metadata": {},
   "outputs": [],
   "source": [
    "def import_images(folder):\n",
    "    address = []\n",
    "    images=[]\n",
    "    for filename in os.listdir(folder):\n",
    "        address.append(os.path.join(folder,filename))\n",
    "        images.append(cv2.imread(os.path.join(folder,filename)))\n",
    "    return address,images"
   ]
  },
  {
   "cell_type": "code",
   "execution_count": 3,
   "metadata": {},
   "outputs": [],
   "source": [
    "folder = \"C:\\\\Users\\\\dell\\\\Desktop\\\\Machine Learning\\\\Duplicate images\\\\aug_dogs\"\n",
    "addresspaths,images = import_images(folder)"
   ]
  },
  {
   "cell_type": "code",
   "execution_count": 4,
   "metadata": {},
   "outputs": [],
   "source": [
    "def hashing_images(image, hashSize = 32):\n",
    "    gray = cv2.cvtColor(image, cv2.COLOR_BGR2GRAY)\n",
    "    resized = cv2.resize(gray, (hashSize , hashSize))\n",
    "    mean_img = np.mean(resized)\n",
    "    mean_arr = [[0]]\n",
    "    diff = resized[:, :] > mean_img\n",
    "    return sum([2 ** i for (i, v) in enumerate(diff.flatten()) if v])"
   ]
  },
  {
   "cell_type": "code",
   "execution_count": 5,
   "metadata": {},
   "outputs": [],
   "source": [
    "def duplicate_finder(addresses, images):\n",
    "    duplicates = []\n",
    "    hash_keys = dict()\n",
    "    for i in range(len(images)):\n",
    "            hash_val = hashing_images(images[i])\n",
    "            if hash_val not in hash_keys: \n",
    "                    hash_keys[hash_val] = addresses[i]\n",
    "            else: \n",
    "                duplicates.append(addresses[i])\n",
    "    return duplicates, hash_keys"
   ]
  },
  {
   "cell_type": "code",
   "execution_count": 6,
   "metadata": {},
   "outputs": [],
   "source": [
    "duplicates, hashes = duplicate_finder(addresspaths, images)"
   ]
  },
  {
   "cell_type": "code",
   "execution_count": 9,
   "metadata": {},
   "outputs": [
    {
     "name": "stdout",
     "output_type": "stream",
     "text": [
      "The number of Duplicate images found are  1010\n"
     ]
    }
   ],
   "source": [
    "print(\"The number of Duplicate images found are \", len(duplicates))"
   ]
  },
  {
   "cell_type": "code",
   "execution_count": 10,
   "metadata": {},
   "outputs": [],
   "source": [
    "#for i in duplicates:\n",
    "    #os.remove(i)"
   ]
  },
  {
   "cell_type": "code",
   "execution_count": null,
   "metadata": {},
   "outputs": [],
   "source": []
  }
 ],
 "metadata": {
  "kernelspec": {
   "display_name": "Python 3",
   "language": "python",
   "name": "python3"
  },
  "language_info": {
   "codemirror_mode": {
    "name": "ipython",
    "version": 3
   },
   "file_extension": ".py",
   "mimetype": "text/x-python",
   "name": "python",
   "nbconvert_exporter": "python",
   "pygments_lexer": "ipython3",
   "version": "3.7.6"
  }
 },
 "nbformat": 4,
 "nbformat_minor": 4
}
